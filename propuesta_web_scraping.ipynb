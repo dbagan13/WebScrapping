{
 "cells": [
  {
   "cell_type": "code",
   "execution_count": 7,
   "metadata": {},
   "outputs": [],
   "source": [
    "import requests\n",
    "import pandas as pd\n",
    "import time\n",
    "from bs4 import BeautifulSoup\n",
    "from selenium import webdriver"
   ]
  },
  {
   "cell_type": "code",
   "execution_count": 8,
   "metadata": {},
   "outputs": [],
   "source": [
    "url = 'https://www.rottentomatoes.com/browse/dvd-streaming-all/'"
   ]
  },
  {
   "cell_type": "code",
   "execution_count": 9,
   "metadata": {},
   "outputs": [],
   "source": [
    "page = requests.get(url)\n",
    "soup = BeautifulSoup(page.text, 'lxml')"
   ]
  },
  {
   "cell_type": "code",
   "execution_count": 10,
   "metadata": {},
   "outputs": [],
   "source": [
    "options = webdriver.FirefoxOptions()\n",
    "options.add_argument(\"--incognito\")\n",
    "driver = webdriver.Firefox(executable_path=\"./geckodriver\", options=options)"
   ]
  },
  {
   "cell_type": "code",
   "execution_count": 11,
   "metadata": {},
   "outputs": [],
   "source": [
    "driver.get(url)"
   ]
  },
  {
   "cell_type": "code",
   "execution_count": 12,
   "metadata": {},
   "outputs": [],
   "source": [
    "movies = driver.find_elements_by_xpath('//div[@class = \"mb-movie\"]')"
   ]
  },
  {
   "cell_type": "code",
   "execution_count": 13,
   "metadata": {
    "scrolled": true
   },
   "outputs": [],
   "source": [
    "movie_list =[]\n",
    "url_list = []\n",
    "number = 32\n",
    "final = 22471\n",
    "count = 0\n",
    "\n",
    "while count < 22471:\n",
    "    i = 0\n",
    "    try:\n",
    "        for movie in movies:\n",
    "            movie_dict = {}\n",
    "            movie_dict['Name'] = movie.find_element_by_xpath('.//div[@class = \"movie_info\"]//h3').get_attribute('innerHTML')\n",
    "            movie_url = movie.find_element_by_xpath('.//div[@class = \"movie_info\"]//a').get_attribute('href')\n",
    "            movie_dict['Url'] = movie_url\n",
    "            url_list.append(movie_url)\n",
    "            movie_list.append(movie_dict)\n",
    "            i += 1\n",
    "            count += 1\n",
    "            if i == 31:\n",
    "                show_more = driver.find_element_by_xpath('//button[@class = \"btn btn-secondary-rt mb-load-btn\"]')\n",
    "    except:\n",
    "        i += 1\n",
    "        count += 1\n",
    "        movie_dict = {}\n",
    "        movie_dict['Name'] = \"NA\" \n",
    "        movie_dict['Url'] = \"NA\"\n",
    "        movie_list.append(movie_dict)"
   ]
  },
  {
   "cell_type": "code",
   "execution_count": 20,
   "metadata": {},
   "outputs": [],
   "source": [
    "dataframe = pd.DataFrame(movie_list)"
   ]
  },
  {
   "cell_type": "code",
   "execution_count": 22,
   "metadata": {},
   "outputs": [
    {
     "data": {
      "text/plain": [
       "0        False\n",
       "1        False\n",
       "2        False\n",
       "3        False\n",
       "4        False\n",
       "         ...  \n",
       "22491    False\n",
       "22492    False\n",
       "22493    False\n",
       "22494    False\n",
       "22495    False\n",
       "Name: Url, Length: 22496, dtype: bool"
      ]
     },
     "execution_count": 22,
     "metadata": {},
     "output_type": "execute_result"
    }
   ],
   "source": [
    "container = driver.find_elements_by_xpath('//div[@class = \"main-column-item\"][]')"
   ]
  },
  {
   "cell_type": "code",
   "execution_count": 458,
   "metadata": {},
   "outputs": [
    {
     "data": {
      "text/plain": [
       "22"
      ]
     },
     "execution_count": 458,
     "metadata": {},
     "output_type": "execute_result"
    }
   ],
   "source": [
    "prueba = url_list[0]\n",
    "driver.get(prueba)\n",
    "panel = driver.find_element_by_xpath('//div[@class = \"panel-body content_body\"]')\n",
    "\n",
    "len(panel.find_elements_by_xpath('.//ul[@class = \"content-meta info\"]/li/div'))\n",
    "#for url in url_list:\n",
    " #   driver.get(url)\n",
    "  #  driver.find"
   ]
  },
  {
   "cell_type": "code",
   "execution_count": 156,
   "metadata": {},
   "outputs": [],
   "source": [
    "driver.close()"
   ]
  },
  {
   "cell_type": "code",
   "execution_count": null,
   "metadata": {},
   "outputs": [],
   "source": []
  }
 ],
 "metadata": {
  "kernelspec": {
   "display_name": "Python 3",
   "language": "python",
   "name": "python3"
  },
  "language_info": {
   "codemirror_mode": {
    "name": "ipython",
    "version": 3
   },
   "file_extension": ".py",
   "mimetype": "text/x-python",
   "name": "python",
   "nbconvert_exporter": "python",
   "pygments_lexer": "ipython3",
   "version": "3.8.5"
  }
 },
 "nbformat": 4,
 "nbformat_minor": 4
}
